{
  "cells": [
    {
      "cell_type": "markdown",
      "metadata": {
        "id": "view-in-github",
        "colab_type": "text"
      },
      "source": [
        "<a href=\"https://colab.research.google.com/github/afolabiope/github_start/blob/main/Assignment_.ipynb\" target=\"_parent\"><img src=\"https://colab.research.google.com/assets/colab-badge.svg\" alt=\"Open In Colab\"/></a>"
      ]
    },
    {
      "cell_type": "code",
      "execution_count": null,
      "metadata": {
        "id": "Ml-a_T-p1v_B"
      },
      "outputs": [],
      "source": [
        "import os\n",
        "from datetime import datetime, timedelta\n",
        "import numpy as np\n",
        "import matplotlib.pyplot as plt\n",
        "import pandas as pd\n",
        "# import requests\n",
        "# from ta import volume\n",
        "# import pytz\n",
        "# import plotly.graph_objs as go\n",
        "# import ta\n",
        "\n",
        "\n",
        "\n",
        "# from alpha_vantage.timeseries import TimeSeries\n",
        "from dateutil.relativedelta import relativedelta\n",
        "import yfinance as yf\n",
        "\n",
        "\n",
        "# Format price data\n",
        "# pd.options.display.float_format = '{:0.2f}'.format\n",
        "\n",
        "# %matplotlib inline\n",
        "# import warnings\n",
        "# warnings.filterwarnings('ignore')"
      ]
    },
    {
      "cell_type": "code",
      "execution_count": null,
      "metadata": {
        "id": "zwVv_k7Z1v_I"
      },
      "outputs": [],
      "source": [
        ""
      ]
    },
    {
      "cell_type": "markdown",
      "metadata": {
        "id": "9M0VFkmI1v_I"
      },
      "source": [
        "# QUESTION 1"
      ]
    },
    {
      "cell_type": "code",
      "execution_count": null,
      "metadata": {
        "id": "qBQ1C5lO1v_K"
      },
      "outputs": [],
      "source": [
        "########################## QUESTION 1.1 #########################################\n",
        "\n",
        "x1 = pd.read_html('https://home.treasury.gov/resource-center/data-chart-center/interest-rates/TextView?type=daily_treasury_yield_curve&field_tdr_date_value_month=201910')[0]\n",
        "x2 = pd.read_html('https://home.treasury.gov/resource-center/data-chart-center/interest-rates/TextView?type=daily_treasury_yield_curve&field_tdr_date_value_month=201911')[0]"
      ]
    },
    {
      "cell_type": "code",
      "execution_count": null,
      "metadata": {
        "scrolled": true,
        "id": "VEMRk_Bu1v_L"
      },
      "outputs": [],
      "source": [
        "Benchmark_Oct =  x1[[ 'Date', '2 Yr', '3 Yr', '5 Yr', '7 Yr', '10 Yr', '30 Yr']]\n",
        "Benchmark_Nov =  x2[[ 'Date', '2 Yr', '3 Yr', '5 Yr', '7 Yr', '10 Yr', '30 Yr']]\n",
        "\n",
        "Benchmark_Oct.set_index('Date', inplace=True)\n",
        "Benchmark_Nov.set_index('Date', inplace=True)"
      ]
    },
    {
      "cell_type": "code",
      "execution_count": null,
      "metadata": {
        "id": "HJ02-YxY1v_M"
      },
      "outputs": [],
      "source": [
        "########################## QUESTION 1.2 #########################################\n",
        "\n",
        "start1 = (datetime(2019, 10, 1) ).strftime('%Y-%m-%d')\n",
        "end1 = (datetime(2019, 10, 31)).strftime('%Y-%m-%d')\n",
        "\n",
        "start2 = (datetime(2019, 11, 1) ).strftime('%Y-%m-%d')\n",
        "end2 = (datetime(2019, 11, 30)).strftime('%Y-%m-%d')\n",
        "\n",
        "Gold_etf = 'GLD'\n",
        "Equity_etf = 'SCHF'"
      ]
    },
    {
      "cell_type": "code",
      "execution_count": null,
      "metadata": {
        "id": "SgufR4H_1v_N",
        "outputId": "f58321dc-3fc5-46c9-adff-ce5a60a3c1cb"
      },
      "outputs": [
        {
          "name": "stdout",
          "output_type": "stream",
          "text": [
            "[*********************100%***********************]  1 of 1 completed\n",
            "[*********************100%***********************]  1 of 1 completed\n"
          ]
        }
      ],
      "source": [
        "Gold_etf_Oct = yf.download(tickers = Gold_etf, interval='1d', start= start1, end=end1)\n",
        "Gold_etf_Nov = yf.download(tickers = Gold_etf, interval='1d', start= start2, end=end2)"
      ]
    },
    {
      "cell_type": "code",
      "execution_count": null,
      "metadata": {
        "id": "L3OQF2uc1v_P",
        "outputId": "4e271585-36f8-4e1c-96f0-bbbc71786f72"
      },
      "outputs": [
        {
          "name": "stdout",
          "output_type": "stream",
          "text": [
            "[*********************100%***********************]  1 of 1 completed\n",
            "[*********************100%***********************]  1 of 1 completed\n"
          ]
        }
      ],
      "source": [
        "########################## QUESTION 1.3 #########################################\n",
        "\n",
        "Equity_etf_Oct = yf.download(tickers = Equity_etf, interval='1d', start= start1, end=end1)\n",
        "Equity_etf_Nov = yf.download(tickers = Equity_etf, interval='1d', start= start2, end=end2)"
      ]
    },
    {
      "cell_type": "markdown",
      "metadata": {
        "id": "Gmx9cNc61v_Q"
      },
      "source": [
        "# QUESTION 2"
      ]
    },
    {
      "cell_type": "code",
      "execution_count": null,
      "metadata": {
        "id": "xqwkTm_j1v_R"
      },
      "outputs": [],
      "source": [
        "########################## QUESTION 2.1 #########################################\n",
        "\n",
        "Gold_etf_Oct['Daily_return'] = Gold_etf_Oct['Adj Close'].pct_change()\n",
        "Gold_etf_Nov['Daily_return'] = Gold_etf_Oct['Adj Close'].pct_change()"
      ]
    },
    {
      "cell_type": "code",
      "execution_count": null,
      "metadata": {
        "id": "NUokLHnX1v_R"
      },
      "outputs": [],
      "source": [
        "########################## QUESTION 2.2 #########################################\n",
        "\n",
        "Equity_etf_Oct['Daily_return'] = Equity_etf_Oct['Adj Close'].pct_change()\n",
        "Equity_etf_Nov['Daily_return'] = Equity_etf_Oct['Adj Close'].pct_change()"
      ]
    },
    {
      "cell_type": "markdown",
      "metadata": {
        "id": "cjNtx3NS1v_S"
      },
      "source": [
        "# QUESTION 3"
      ]
    },
    {
      "cell_type": "code",
      "execution_count": null,
      "metadata": {
        "id": "PHKogQRL1v_S",
        "outputId": "771a0702-15a0-4477-a2c5-c6f2dad7025f"
      },
      "outputs": [
        {
          "name": "stdout",
          "output_type": "stream",
          "text": [
            "Average yield Oct benchmark : [1.5513636363636367, 1.528181818181818, 1.5250000000000001, 1.615, 1.706818181818182, 2.190454545454546]\n",
            "Average yield Nov benchmark : [1.6126315789473682, 1.6121052631578945, 1.6394736842105262, 1.7357894736842103, 1.8121052631578947, 2.2805263157894737]\n"
          ]
        }
      ],
      "source": [
        "########################## QUESTION 3.1 #########################################\n",
        "aver_Oct = []\n",
        "for i in range(len(Benchmark_Oct.columns)):\n",
        "    aver_Oct.append(Benchmark_Oct[Benchmark_Oct.columns[i]].mean())\n",
        "\n",
        "    \n",
        "aver_Nov = []\n",
        "for i in range(len(Benchmark_Nov.columns)):\n",
        "    aver_Nov.append(Benchmark_Nov[Benchmark_Nov.columns[i]].mean())\n",
        "    \n",
        "print(f'Average yield Oct benchmark :',aver_Oct)     \n",
        "print(f'Average yield Nov benchmark :',aver_Nov)  \n",
        "    "
      ]
    },
    {
      "cell_type": "code",
      "execution_count": null,
      "metadata": {
        "id": "ulmrqi7N1v_T"
      },
      "outputs": [],
      "source": [
        "########################## QUESTION 3.2 #########################################\n",
        "\n",
        "Ave_pr_Gold_etf_Oct = Gold_etf_Oct['Adj Close'].mean()\n",
        "Ave_pr_Gold_etf_Nov = Gold_etf_Nov['Adj Close'].mean()"
      ]
    },
    {
      "cell_type": "code",
      "execution_count": null,
      "metadata": {
        "id": "kqqdL6Kx1v_T"
      },
      "outputs": [],
      "source": [
        "########################## QUESTION 3.3 #########################################\n",
        "\n",
        "Ave_pr_Equity_etf_Oct = Equity_etf_Oct['Adj Close'].mean()\n",
        "Ave_pr_Equity_etf_Nov = Equity_etf_Nov['Adj Close'].mean()"
      ]
    },
    {
      "cell_type": "code",
      "execution_count": null,
      "metadata": {
        "id": "wbUERhTn1v_T",
        "outputId": "dfa8bd7c-9959-4369-c1e2-f02dea2d09ff"
      },
      "outputs": [
        {
          "name": "stdout",
          "output_type": "stream",
          "text": [
            "Standard deviation Oct benchmark : [0.0803145870961988, 0.0964432408274354, 0.10446006299971662, 0.10065263226042516, 0.104807595309844, 0.10129999166677317]\n",
            "Standard deviation Nov benchmark : [0.03380369888754082, 0.04404277559227326, 0.052754534740366274, 0.06103876632233037, 0.06502810908184423, 0.07691797104062122]\n"
          ]
        }
      ],
      "source": [
        "########################## QUESTION 3.4 #########################################\n",
        "\n",
        "Std_Oct = []\n",
        "for i in range(len(Benchmark_Oct.columns)):\n",
        "    Std_Oct.append(Benchmark_Oct[Benchmark_Oct.columns[i]].std())\n",
        "\n",
        "    \n",
        "Std_Nov = []\n",
        "for i in range(len(Benchmark_Nov.columns)):\n",
        "    Std_Nov.append(Benchmark_Nov[Benchmark_Nov.columns[i]].std())\n",
        "    \n",
        "print(f'Standard deviation Oct benchmark :',Std_Oct)     \n",
        "print(f'Standard deviation Nov benchmark :',Std_Nov)  "
      ]
    },
    {
      "cell_type": "code",
      "execution_count": null,
      "metadata": {
        "id": "eukoHyok1v_U"
      },
      "outputs": [],
      "source": [
        "########################## QUESTION 3.5 #########################################\n",
        "\n",
        "Ave_pr_Gold_etf_Oct = Gold_etf_Oct['Adj Close'].std()\n",
        "Ave_pr_Gold_etf_Nov = Gold_etf_Nov['Adj Close'].std()"
      ]
    },
    {
      "cell_type": "code",
      "execution_count": null,
      "metadata": {
        "id": "g7oe2_Di1v_U"
      },
      "outputs": [],
      "source": [
        "########################## QUESTION 3.6 #########################################\n",
        "\n",
        "Ave_pr_Equity_etf_Oct = Equity_etf_Oct['Adj Close'].std()\n",
        "Ave_pr_Equity_etf_Nov = Equity_etf_Nov['Adj Close'].std()"
      ]
    },
    {
      "cell_type": "markdown",
      "metadata": {
        "id": "OSUajoHZ1v_U"
      },
      "source": [
        "# QUESTION 4"
      ]
    },
    {
      "cell_type": "code",
      "execution_count": null,
      "metadata": {
        "id": "uAcOKRmG1v_V"
      },
      "outputs": [],
      "source": [
        ""
      ]
    },
    {
      "cell_type": "code",
      "execution_count": null,
      "metadata": {
        "id": "zrRrayMx1v_V"
      },
      "outputs": [],
      "source": [
        "########################## QUESTION 4.1 #########################################\n",
        "\n",
        "Benchmark_Oct.columns = ['2yr', '3yr', '5yr', '7yr', '10yr', '30yr']\n",
        "Benchmark_Nov.columns = ['2yr', '3yr', '5yr', '7yr', '10yr', '30yr']"
      ]
    },
    {
      "cell_type": "code",
      "execution_count": null,
      "metadata": {
        "id": "yxzuudfG1v_V"
      },
      "outputs": [],
      "source": [
        "Benchmark_Oct_nov = pd.concat([Benchmark_Oct, Benchmark_Nov])"
      ]
    },
    {
      "cell_type": "code",
      "execution_count": null,
      "metadata": {
        "id": "b_Bzfd1K1v_V",
        "outputId": "e5454e49-cb73-492d-d92f-99e1e7116d3c"
      },
      "outputs": [
        {
          "data": {
            "image/png": "[encoded data removed]",
            "text/plain": [
              "<Figure size 1152x720 with 1 Axes>"
            ]
          },
          "metadata": {
            "needs_background": "light"
          },
          "output_type": "display_data"
        }
      ],
      "source": [
        "\n",
        "import pandas as pd\n",
        "import matplotlib.pyplot as mp\n",
        " \n",
        "\n",
        "Benchmark_Oct_nov.plot( y=['2yr', '3yr', '5yr', '7yr', '10yr', '30yr'],\n",
        "        kind=\"line\", figsize=(16, 10))\n",
        "\n",
        "# display plot\n",
        "mp.show()"
      ]
    },
    {
      "cell_type": "code",
      "execution_count": null,
      "metadata": {
        "id": "wPKw0OZU1v_W"
      },
      "outputs": [],
      "source": [
        ""
      ]
    },
    {
      "cell_type": "code",
      "execution_count": null,
      "metadata": {
        "id": "t4-2fNRF1v_W"
      },
      "outputs": [],
      "source": [
        "########################## QUESTION 4.2 & 4.3 #########################################\n",
        "\n",
        "\n",
        "Gold_etf_Oct_nov = pd.concat([Gold_etf_Oct['Adj Close'], Gold_etf_Nov['Adj Close']])\n",
        "Equity_etf_Oct_nov = pd.concat([Equity_etf_Oct['Adj Close'], Equity_etf_Nov['Adj Close']])\n"
      ]
    },
    {
      "cell_type": "code",
      "execution_count": null,
      "metadata": {
        "id": "r9yjmtCS1v_W",
        "outputId": "cd77afb3-5326-453e-f935-e857635ce525"
      },
      "outputs": [
        {
          "data": {
            "image/png": "[encoded data removed]",
            "text/plain": [
              "<Figure size 1152x576 with 2 Axes>"
            ]
          },
          "metadata": {
            "needs_background": "light"
          },
          "output_type": "display_data"
        }
      ],
      "source": [
        "import numpy as np\n",
        "import matplotlib.pyplot as plt\n",
        "data1 = Gold_etf_Oct_nov\n",
        "data2 = Equity_etf_Oct_nov\n",
        "fig = plt.figure(figsize=(16,8))\n",
        "ax1 = fig.add_subplot()\n",
        "color = 'tab:red'\n",
        "ax1.set_xlabel('Date')\n",
        "ax1.set_ylabel('Gold ETF', color=color)\n",
        "ax1.plot(data1.index, data1, color=color)\n",
        "ax1.tick_params(axis='y', labelcolor=color)\n",
        "\n",
        "ax2 = ax1.twinx()  \n",
        "\n",
        "color = 'tab:blue'\n",
        "ax2.set_ylabel('Equity ETF', color=color)  \n",
        "ax2.plot(data2.index, data2, color=color)\n",
        "ax2.tick_params(axis='y', labelcolor=color)\n",
        "\n",
        "\n",
        "fig.tight_layout()  \n",
        "plt.show()"
      ]
    },
    {
      "cell_type": "markdown",
      "metadata": {
        "id": "Xkwlfw2K1v_W"
      },
      "source": [
        "# QUESTION 5"
      ]
    },
    {
      "cell_type": "code",
      "execution_count": null,
      "metadata": {
        "id": "qz9ztPdW1v_X"
      },
      "outputs": [],
      "source": [
        "########################## QUESTION 5.1 #########################################\n",
        "\n",
        "# f (t) = β0 + β1 * exp(-t / Ʈ) + β2 * exp(-t / Ʈ) * (-t / Ʈ)\n",
        "# where (β0, β1, β2,Ʈ) are parameters to be determined"
      ]
    },
    {
      "cell_type": "code",
      "execution_count": null,
      "metadata": {
        "id": "vSBdN5Qv1v_X"
      },
      "outputs": [],
      "source": [
        "########################## QUESTION 5.2 #########################################\n",
        "fit_Oct = pd.DataFrame()\n",
        "from nelson_siegel_svensson.calibrate import calibrate_ns_ols, NelsonSiegelCurve\n",
        "t = np.array([2.0, 3.0, 5.0, 7.0, 10.0, 30.0])\n",
        "for i, row in enumerate(Benchmark_Oct.itertuples()):\n",
        "    y = Benchmark_Oct.values[i]\n",
        "    curve, _ = calibrate_ns_ols(t, y)\n",
        "    data_Oct = pd.DataFrame([(curve.beta0, curve.beta1, curve.beta2, curve.tau)], index = [Benchmark_Oct.index[i]])\n",
        "    data_Oct.columns=[\"beta0\", \"beta1\",\"beta2\",\"tau\"]\n",
        "    fit_Oct = pd.concat([fit_Oct, data_Oct], axis = 0)\n"
      ]
    },
    {
      "cell_type": "code",
      "execution_count": null,
      "metadata": {
        "scrolled": true,
        "id": "uVEwpNQS1v_X",
        "outputId": "9a740f94-de00-4d7b-f609-ed7e2e19e310"
      },
      "outputs": [
        {
          "data": {
            "text/html": [
              "<div>\n",
              "<style scoped>\n",
              "    .dataframe tbody tr th:only-of-type {\n",
              "        vertical-align: middle;\n",
              "    }\n",
              "\n",
              "    .dataframe tbody tr th {\n",
              "        vertical-align: top;\n",
              "    }\n",
              "\n",
              "    .dataframe thead th {\n",
              "        text-align: right;\n",
              "    }\n",
              "</style>\n",
              "<table border=\"1\" class=\"dataframe\">\n",
              "  <thead>\n",
              "    <tr style=\"text-align: right;\">\n",
              "      <th></th>\n",
              "      <th>beta0</th>\n",
              "      <th>beta1</th>\n",
              "      <th>beta2</th>\n",
              "      <th>tau</th>\n",
              "    </tr>\n",
              "  </thead>\n",
              "  <tbody>\n",
              "    <tr>\n",
              "      <th>10/01/2019</th>\n",
              "      <td>2.447224</td>\n",
              "      <td>-0.721239</td>\n",
              "      <td>-1.814447</td>\n",
              "      <td>4.016329</td>\n",
              "    </tr>\n",
              "    <tr>\n",
              "      <th>10/02/2019</th>\n",
              "      <td>2.425452</td>\n",
              "      <td>-0.746593</td>\n",
              "      <td>-1.976683</td>\n",
              "      <td>3.717382</td>\n",
              "    </tr>\n",
              "    <tr>\n",
              "      <th>10/03/2019</th>\n",
              "      <td>2.359656</td>\n",
              "      <td>-0.714313</td>\n",
              "      <td>-2.154237</td>\n",
              "      <td>3.360211</td>\n",
              "    </tr>\n",
              "    <tr>\n",
              "      <th>10/04/2019</th>\n",
              "      <td>2.339244</td>\n",
              "      <td>-0.690341</td>\n",
              "      <td>-2.118438</td>\n",
              "      <td>3.531227</td>\n",
              "    </tr>\n",
              "    <tr>\n",
              "      <th>10/07/2019</th>\n",
              "      <td>2.380362</td>\n",
              "      <td>-0.636976</td>\n",
              "      <td>-2.207960</td>\n",
              "      <td>3.495750</td>\n",
              "    </tr>\n",
              "    <tr>\n",
              "      <th>10/08/2019</th>\n",
              "      <td>2.388940</td>\n",
              "      <td>-0.734733</td>\n",
              "      <td>-2.111868</td>\n",
              "      <td>3.691566</td>\n",
              "    </tr>\n",
              "    <tr>\n",
              "      <th>10/09/2019</th>\n",
              "      <td>2.408189</td>\n",
              "      <td>-0.670176</td>\n",
              "      <td>-2.161896</td>\n",
              "      <td>3.488167</td>\n",
              "    </tr>\n",
              "    <tr>\n",
              "      <th>10/10/2019</th>\n",
              "      <td>2.489813</td>\n",
              "      <td>-0.717127</td>\n",
              "      <td>-2.104690</td>\n",
              "      <td>3.517631</td>\n",
              "    </tr>\n",
              "    <tr>\n",
              "      <th>10/11/2019</th>\n",
              "      <td>2.541790</td>\n",
              "      <td>-0.727219</td>\n",
              "      <td>-1.853782</td>\n",
              "      <td>3.756346</td>\n",
              "    </tr>\n",
              "    <tr>\n",
              "      <th>10/15/2019</th>\n",
              "      <td>2.561148</td>\n",
              "      <td>-0.797613</td>\n",
              "      <td>-1.765782</td>\n",
              "      <td>3.889442</td>\n",
              "    </tr>\n",
              "    <tr>\n",
              "      <th>10/16/2019</th>\n",
              "      <td>2.587815</td>\n",
              "      <td>-0.867557</td>\n",
              "      <td>-1.793446</td>\n",
              "      <td>4.050198</td>\n",
              "    </tr>\n",
              "    <tr>\n",
              "      <th>10/17/2019</th>\n",
              "      <td>2.566373</td>\n",
              "      <td>-0.764192</td>\n",
              "      <td>-1.966176</td>\n",
              "      <td>3.597796</td>\n",
              "    </tr>\n",
              "    <tr>\n",
              "      <th>10/18/2019</th>\n",
              "      <td>2.585041</td>\n",
              "      <td>-0.822294</td>\n",
              "      <td>-1.936468</td>\n",
              "      <td>3.655658</td>\n",
              "    </tr>\n",
              "    <tr>\n",
              "      <th>10/21/2019</th>\n",
              "      <td>2.606059</td>\n",
              "      <td>-0.819056</td>\n",
              "      <td>-1.870962</td>\n",
              "      <td>3.650583</td>\n",
              "    </tr>\n",
              "    <tr>\n",
              "      <th>10/22/2019</th>\n",
              "      <td>2.618705</td>\n",
              "      <td>-0.895595</td>\n",
              "      <td>-1.742101</td>\n",
              "      <td>4.097923</td>\n",
              "    </tr>\n",
              "    <tr>\n",
              "      <th>10/23/2019</th>\n",
              "      <td>2.605325</td>\n",
              "      <td>-0.900190</td>\n",
              "      <td>-1.740031</td>\n",
              "      <td>4.053354</td>\n",
              "    </tr>\n",
              "    <tr>\n",
              "      <th>10/24/2019</th>\n",
              "      <td>2.628077</td>\n",
              "      <td>-0.925744</td>\n",
              "      <td>-1.760276</td>\n",
              "      <td>4.129123</td>\n",
              "    </tr>\n",
              "    <tr>\n",
              "      <th>10/25/2019</th>\n",
              "      <td>2.659698</td>\n",
              "      <td>-0.902691</td>\n",
              "      <td>-1.776367</td>\n",
              "      <td>4.161488</td>\n",
              "    </tr>\n",
              "    <tr>\n",
              "      <th>10/28/2019</th>\n",
              "      <td>2.723334</td>\n",
              "      <td>-1.000989</td>\n",
              "      <td>-1.630351</td>\n",
              "      <td>4.396394</td>\n",
              "    </tr>\n",
              "    <tr>\n",
              "      <th>10/29/2019</th>\n",
              "      <td>2.731372</td>\n",
              "      <td>-1.015248</td>\n",
              "      <td>-1.615260</td>\n",
              "      <td>4.612126</td>\n",
              "    </tr>\n",
              "    <tr>\n",
              "      <th>10/30/2019</th>\n",
              "      <td>2.633325</td>\n",
              "      <td>-0.918328</td>\n",
              "      <td>-1.685949</td>\n",
              "      <td>4.327326</td>\n",
              "    </tr>\n",
              "    <tr>\n",
              "      <th>10/31/2019</th>\n",
              "      <td>2.537645</td>\n",
              "      <td>-0.893605</td>\n",
              "      <td>-1.735457</td>\n",
              "      <td>4.216606</td>\n",
              "    </tr>\n",
              "  </tbody>\n",
              "</table>\n",
              "</div>"
            ],
            "text/plain": [
              "               beta0     beta1     beta2       tau\n",
              "10/01/2019  2.447224 -0.721239 -1.814447  4.016329\n",
              "10/02/2019  2.425452 -0.746593 -1.976683  3.717382\n",
              "10/03/2019  2.359656 -0.714313 -2.154237  3.360211\n",
              "10/04/2019  2.339244 -0.690341 -2.118438  3.531227\n",
              "10/07/2019  2.380362 -0.636976 -2.207960  3.495750\n",
              "10/08/2019  2.388940 -0.734733 -2.111868  3.691566\n",
              "10/09/2019  2.408189 -0.670176 -2.161896  3.488167\n",
              "10/10/2019  2.489813 -0.717127 -2.104690  3.517631\n",
              "10/11/2019  2.541790 -0.727219 -1.853782  3.756346\n",
              "10/15/2019  2.561148 -0.797613 -1.765782  3.889442\n",
              "10/16/2019  2.587815 -0.867557 -1.793446  4.050198\n",
              "10/17/2019  2.566373 -0.764192 -1.966176  3.597796\n",
              "10/18/2019  2.585041 -0.822294 -1.936468  3.655658\n",
              "10/21/2019  2.606059 -0.819056 -1.870962  3.650583\n",
              "10/22/2019  2.618705 -0.895595 -1.742101  4.097923\n",
              "10/23/2019  2.605325 -0.900190 -1.740031  4.053354\n",
              "10/24/2019  2.628077 -0.925744 -1.760276  4.129123\n",
              "10/25/2019  2.659698 -0.902691 -1.776367  4.161488\n",
              "10/28/2019  2.723334 -1.000989 -1.630351  4.396394\n",
              "10/29/2019  2.731372 -1.015248 -1.615260  4.612126\n",
              "10/30/2019  2.633325 -0.918328 -1.685949  4.327326\n",
              "10/31/2019  2.537645 -0.893605 -1.735457  4.216606"
            ]
          },
          "execution_count": 25,
          "metadata": {},
          "output_type": "execute_result"
        }
      ],
      "source": [
        "fit_Oct"
      ]
    },
    {
      "cell_type": "code",
      "execution_count": null,
      "metadata": {
        "id": "nj4F84Jo1v_X"
      },
      "outputs": [],
      "source": [
        "########################## QUESTION 5.3 #########################################\n",
        "fit_Nov = pd.DataFrame()\n",
        "t = np.array([2.0, 3.0, 5.0, 7.0, 10.0, 30.0])\n",
        "for i, row in enumerate(Benchmark_Nov.itertuples()):\n",
        "    y = Benchmark_Nov.values[i]\n",
        "    curve, _ = calibrate_ns_ols(t, y)\n",
        "    data_Nov = pd.DataFrame([(curve.beta0, curve.beta1, curve.beta2, curve.tau)], index = [Benchmark_Nov.index[i]])\n",
        "    data_Nov.columns=[\"beta0\", \"beta1\",\"beta2\",\"tau\"]\n",
        "    fit_Nov = pd.concat([fit_Nov, data_Nov], axis = 0)\n"
      ]
    },
    {
      "cell_type": "code",
      "execution_count": null,
      "metadata": {
        "id": "cwAA6bXj1v_X",
        "outputId": "fa6ae194-ca64-4240-be02-00973b56a4a5"
      },
      "outputs": [
        {
          "data": {
            "text/html": [
              "<div>\n",
              "<style scoped>\n",
              "    .dataframe tbody tr th:only-of-type {\n",
              "        vertical-align: middle;\n",
              "    }\n",
              "\n",
              "    .dataframe tbody tr th {\n",
              "        vertical-align: top;\n",
              "    }\n",
              "\n",
              "    .dataframe thead th {\n",
              "        text-align: right;\n",
              "    }\n",
              "</style>\n",
              "<table border=\"1\" class=\"dataframe\">\n",
              "  <thead>\n",
              "    <tr style=\"text-align: right;\">\n",
              "      <th></th>\n",
              "      <th>beta0</th>\n",
              "      <th>beta1</th>\n",
              "      <th>beta2</th>\n",
              "      <th>tau</th>\n",
              "    </tr>\n",
              "  </thead>\n",
              "  <tbody>\n",
              "    <tr>\n",
              "      <th>11/01/2019</th>\n",
              "      <td>2.567815</td>\n",
              "      <td>-0.867557</td>\n",
              "      <td>-1.793446</td>\n",
              "      <td>4.050197</td>\n",
              "    </tr>\n",
              "    <tr>\n",
              "      <th>11/04/2019</th>\n",
              "      <td>2.615161</td>\n",
              "      <td>-0.883161</td>\n",
              "      <td>-1.764316</td>\n",
              "      <td>3.926178</td>\n",
              "    </tr>\n",
              "    <tr>\n",
              "      <th>11/05/2019</th>\n",
              "      <td>2.682637</td>\n",
              "      <td>-0.980616</td>\n",
              "      <td>-1.568636</td>\n",
              "      <td>4.053714</td>\n",
              "    </tr>\n",
              "    <tr>\n",
              "      <th>11/06/2019</th>\n",
              "      <td>2.676484</td>\n",
              "      <td>-1.003213</td>\n",
              "      <td>-1.569420</td>\n",
              "      <td>4.423736</td>\n",
              "    </tr>\n",
              "    <tr>\n",
              "      <th>11/07/2019</th>\n",
              "      <td>2.835495</td>\n",
              "      <td>-1.170267</td>\n",
              "      <td>-1.224904</td>\n",
              "      <td>5.552970</td>\n",
              "    </tr>\n",
              "    <tr>\n",
              "      <th>11/08/2019</th>\n",
              "      <td>2.827437</td>\n",
              "      <td>-1.154402</td>\n",
              "      <td>-1.289009</td>\n",
              "      <td>4.933419</td>\n",
              "    </tr>\n",
              "    <tr>\n",
              "      <th>11/12/2019</th>\n",
              "      <td>2.804228</td>\n",
              "      <td>-1.171660</td>\n",
              "      <td>-1.130491</td>\n",
              "      <td>5.487796</td>\n",
              "    </tr>\n",
              "    <tr>\n",
              "      <th>11/13/2019</th>\n",
              "      <td>2.760299</td>\n",
              "      <td>-1.129392</td>\n",
              "      <td>-1.298238</td>\n",
              "      <td>5.002641</td>\n",
              "    </tr>\n",
              "    <tr>\n",
              "      <th>11/14/2019</th>\n",
              "      <td>2.704226</td>\n",
              "      <td>-1.104009</td>\n",
              "      <td>-1.408705</td>\n",
              "      <td>4.750771</td>\n",
              "    </tr>\n",
              "    <tr>\n",
              "      <th>11/15/2019</th>\n",
              "      <td>2.657149</td>\n",
              "      <td>-0.999422</td>\n",
              "      <td>-1.463116</td>\n",
              "      <td>4.255095</td>\n",
              "    </tr>\n",
              "    <tr>\n",
              "      <th>11/18/2019</th>\n",
              "      <td>2.679721</td>\n",
              "      <td>-1.034051</td>\n",
              "      <td>-1.510424</td>\n",
              "      <td>4.514251</td>\n",
              "    </tr>\n",
              "    <tr>\n",
              "      <th>11/19/2019</th>\n",
              "      <td>2.650504</td>\n",
              "      <td>-1.013497</td>\n",
              "      <td>-1.432769</td>\n",
              "      <td>4.840545</td>\n",
              "    </tr>\n",
              "    <tr>\n",
              "      <th>11/20/2019</th>\n",
              "      <td>2.616441</td>\n",
              "      <td>-1.020559</td>\n",
              "      <td>-1.434818</td>\n",
              "      <td>5.161282</td>\n",
              "    </tr>\n",
              "    <tr>\n",
              "      <th>11/21/2019</th>\n",
              "      <td>2.663943</td>\n",
              "      <td>-1.039824</td>\n",
              "      <td>-1.387752</td>\n",
              "      <td>5.326310</td>\n",
              "    </tr>\n",
              "    <tr>\n",
              "      <th>11/22/2019</th>\n",
              "      <td>2.596293</td>\n",
              "      <td>-0.939027</td>\n",
              "      <td>-1.407504</td>\n",
              "      <td>4.866708</td>\n",
              "    </tr>\n",
              "    <tr>\n",
              "      <th>11/25/2019</th>\n",
              "      <td>2.621071</td>\n",
              "      <td>-0.981571</td>\n",
              "      <td>-1.353731</td>\n",
              "      <td>5.374052</td>\n",
              "    </tr>\n",
              "    <tr>\n",
              "      <th>11/26/2019</th>\n",
              "      <td>2.529200</td>\n",
              "      <td>-0.879855</td>\n",
              "      <td>-1.440428</td>\n",
              "      <td>4.553767</td>\n",
              "    </tr>\n",
              "    <tr>\n",
              "      <th>11/27/2019</th>\n",
              "      <td>2.518763</td>\n",
              "      <td>-0.818126</td>\n",
              "      <td>-1.405877</td>\n",
              "      <td>4.472745</td>\n",
              "    </tr>\n",
              "    <tr>\n",
              "      <th>11/29/2019</th>\n",
              "      <td>2.549862</td>\n",
              "      <td>-0.897123</td>\n",
              "      <td>-1.316281</td>\n",
              "      <td>4.651711</td>\n",
              "    </tr>\n",
              "  </tbody>\n",
              "</table>\n",
              "</div>"
            ],
            "text/plain": [
              "               beta0     beta1     beta2       tau\n",
              "11/01/2019  2.567815 -0.867557 -1.793446  4.050197\n",
              "11/04/2019  2.615161 -0.883161 -1.764316  3.926178\n",
              "11/05/2019  2.682637 -0.980616 -1.568636  4.053714\n",
              "11/06/2019  2.676484 -1.003213 -1.569420  4.423736\n",
              "11/07/2019  2.835495 -1.170267 -1.224904  5.552970\n",
              "11/08/2019  2.827437 -1.154402 -1.289009  4.933419\n",
              "11/12/2019  2.804228 -1.171660 -1.130491  5.487796\n",
              "11/13/2019  2.760299 -1.129392 -1.298238  5.002641\n",
              "11/14/2019  2.704226 -1.104009 -1.408705  4.750771\n",
              "11/15/2019  2.657149 -0.999422 -1.463116  4.255095\n",
              "11/18/2019  2.679721 -1.034051 -1.510424  4.514251\n",
              "11/19/2019  2.650504 -1.013497 -1.432769  4.840545\n",
              "11/20/2019  2.616441 -1.020559 -1.434818  5.161282\n",
              "11/21/2019  2.663943 -1.039824 -1.387752  5.326310\n",
              "11/22/2019  2.596293 -0.939027 -1.407504  4.866708\n",
              "11/25/2019  2.621071 -0.981571 -1.353731  5.374052\n",
              "11/26/2019  2.529200 -0.879855 -1.440428  4.553767\n",
              "11/27/2019  2.518763 -0.818126 -1.405877  4.472745\n",
              "11/29/2019  2.549862 -0.897123 -1.316281  4.651711"
            ]
          },
          "execution_count": 28,
          "metadata": {},
          "output_type": "execute_result"
        }
      ],
      "source": [
        "fit_Nov"
      ]
    },
    {
      "cell_type": "markdown",
      "metadata": {
        "id": "Ui86jPtN1v_Y"
      },
      "source": [
        "# QUESTION 6"
      ]
    },
    {
      "cell_type": "code",
      "execution_count": null,
      "metadata": {
        "id": "T-6JR3V21v_Y",
        "outputId": "89eac816-4535-4fc9-cd2c-e83ab8e10a14"
      },
      "outputs": [
        {
          "name": "stderr",
          "output_type": "stream",
          "text": [
            "/home/afolabiope1/.local/lib/python3.8/site-packages/statsmodels/tsa/base/tsa_model.py:524: ValueWarning:\n",
            "\n",
            "No frequency information was provided, so inferred frequency B will be used.\n",
            "\n"
          ]
        },
        {
          "data": {
            "text/html": [
              "<table class=\"simpletable\">\n",
              "<caption>ARMA Model Results</caption>\n",
              "<tr>\n",
              "  <th>Dep. Variable:</th>     <td>Adj Close</td>    <th>  No. Observations:  </th>   <td>22</td>   \n",
              "</tr>\n",
              "<tr>\n",
              "  <th>Model:</th>            <td>ARMA(3, 1)</td>    <th>  Log Likelihood     </th> <td>-21.582</td>\n",
              "</tr>\n",
              "<tr>\n",
              "  <th>Method:</th>             <td>css-mle</td>     <th>  S.D. of innovations</th>  <td>0.615</td> \n",
              "</tr>\n",
              "<tr>\n",
              "  <th>Date:</th>          <td>Mon, 28 Mar 2022</td> <th>  AIC                </th> <td>55.164</td> \n",
              "</tr>\n",
              "<tr>\n",
              "  <th>Time:</th>              <td>04:26:07</td>     <th>  BIC                </th> <td>61.710</td> \n",
              "</tr>\n",
              "<tr>\n",
              "  <th>Sample:</th>           <td>10-01-2019</td>    <th>  HQIC               </th> <td>56.706</td> \n",
              "</tr>\n",
              "<tr>\n",
              "  <th></th>                 <td>- 10-30-2019</td>   <th>                     </th>    <td> </td>   \n",
              "</tr>\n",
              "</table>\n",
              "<table class=\"simpletable\">\n",
              "<tr>\n",
              "         <td></td>            <th>coef</th>     <th>std err</th>      <th>z</th>      <th>P>|z|</th>  <th>[0.025</th>    <th>0.975]</th>  \n",
              "</tr>\n",
              "<tr>\n",
              "  <th>const</th>           <td>  140.7440</td> <td>    0.089</td> <td> 1578.298</td> <td> 0.000</td> <td>  140.569</td> <td>  140.919</td>\n",
              "</tr>\n",
              "<tr>\n",
              "  <th>ar.L1.Adj Close</th> <td>    1.3952</td> <td>    0.225</td> <td>    6.191</td> <td> 0.000</td> <td>    0.954</td> <td>    1.837</td>\n",
              "</tr>\n",
              "<tr>\n",
              "  <th>ar.L2.Adj Close</th> <td>   -0.6831</td> <td>    0.368</td> <td>   -1.855</td> <td> 0.064</td> <td>   -1.405</td> <td>    0.039</td>\n",
              "</tr>\n",
              "<tr>\n",
              "  <th>ar.L3.Adj Close</th> <td>    0.0955</td> <td>    0.248</td> <td>    0.386</td> <td> 0.700</td> <td>   -0.390</td> <td>    0.581</td>\n",
              "</tr>\n",
              "<tr>\n",
              "  <th>ma.L1.Adj Close</th> <td>   -1.0000</td> <td>    0.124</td> <td>   -8.096</td> <td> 0.000</td> <td>   -1.242</td> <td>   -0.758</td>\n",
              "</tr>\n",
              "</table>\n",
              "<table class=\"simpletable\">\n",
              "<caption>Roots</caption>\n",
              "<tr>\n",
              "    <td></td>   <th>            Real</th>  <th>         Imaginary</th> <th>         Modulus</th>  <th>        Frequency</th>\n",
              "</tr>\n",
              "<tr>\n",
              "  <th>AR.1</th> <td>           1.4040</td> <td>          -0.6628j</td> <td>           1.5526</td> <td>          -0.0702</td>\n",
              "</tr>\n",
              "<tr>\n",
              "  <th>AR.2</th> <td>           1.4040</td> <td>          +0.6628j</td> <td>           1.5526</td> <td>           0.0702</td>\n",
              "</tr>\n",
              "<tr>\n",
              "  <th>AR.3</th> <td>           4.3429</td> <td>          -0.0000j</td> <td>           4.3429</td> <td>          -0.0000</td>\n",
              "</tr>\n",
              "<tr>\n",
              "  <th>MA.1</th> <td>           1.0000</td> <td>          +0.0000j</td> <td>           1.0000</td> <td>           0.0000</td>\n",
              "</tr>\n",
              "</table>"
            ],
            "text/plain": [
              "<class 'statsmodels.iolib.summary.Summary'>\n",
              "\"\"\"\n",
              "                              ARMA Model Results                              \n",
              "==============================================================================\n",
              "Dep. Variable:              Adj Close   No. Observations:                   22\n",
              "Model:                     ARMA(3, 1)   Log Likelihood                 -21.582\n",
              "Method:                       css-mle   S.D. of innovations              0.615\n",
              "Date:                Mon, 28 Mar 2022   AIC                             55.164\n",
              "Time:                        04:26:07   BIC                             61.710\n",
              "Sample:                    10-01-2019   HQIC                            56.706\n",
              "                         - 10-30-2019                                         \n",
              "===================================================================================\n",
              "                      coef    std err          z      P>|z|      [0.025      0.975]\n",
              "-----------------------------------------------------------------------------------\n",
              "const             140.7440      0.089   1578.298      0.000     140.569     140.919\n",
              "ar.L1.Adj Close     1.3952      0.225      6.191      0.000       0.954       1.837\n",
              "ar.L2.Adj Close    -0.6831      0.368     -1.855      0.064      -1.405       0.039\n",
              "ar.L3.Adj Close     0.0955      0.248      0.386      0.700      -0.390       0.581\n",
              "ma.L1.Adj Close    -1.0000      0.124     -8.096      0.000      -1.242      -0.758\n",
              "                                    Roots                                    \n",
              "=============================================================================\n",
              "                  Real          Imaginary           Modulus         Frequency\n",
              "-----------------------------------------------------------------------------\n",
              "AR.1            1.4040           -0.6628j            1.5526           -0.0702\n",
              "AR.2            1.4040           +0.6628j            1.5526            0.0702\n",
              "AR.3            4.3429           -0.0000j            4.3429           -0.0000\n",
              "MA.1            1.0000           +0.0000j            1.0000            0.0000\n",
              "-----------------------------------------------------------------------------\n",
              "\"\"\""
            ]
          },
          "execution_count": 164,
          "metadata": {},
          "output_type": "execute_result"
        }
      ],
      "source": [
        "########################## QUESTION 6.1 #########################################\n",
        "\n",
        "from statsmodels.tsa.arima_model import ARIMA\n",
        "value = Gold_etf_Oct['Adj Close'].dropna()\n",
        "model=ARIMA(value,order=(3,0,1))\n",
        "model_fit=model.fit()\n",
        "model_fit.summary()"
      ]
    },
    {
      "cell_type": "code",
      "execution_count": null,
      "metadata": {
        "id": "hPI1xl8c1v_Y",
        "outputId": "22aa0750-260a-4bdd-e2c9-699430a0b4ba"
      },
      "outputs": [
        {
          "name": "stderr",
          "output_type": "stream",
          "text": [
            "/home/afolabiope1/.local/lib/python3.8/site-packages/statsmodels/tsa/base/tsa_model.py:581: ValueWarning:\n",
            "\n",
            "A date index has been provided, but it has no associated frequency information and so will be ignored when e.g. forecasting.\n",
            "\n"
          ]
        },
        {
          "data": {
            "text/html": [
              "<table class=\"simpletable\">\n",
              "<caption>ARMA Model Results</caption>\n",
              "<tr>\n",
              "  <th>Dep. Variable:</th>     <td>Adj Close</td>    <th>  No. Observations:  </th>   <td>20</td>   \n",
              "</tr>\n",
              "<tr>\n",
              "  <th>Model:</th>            <td>ARMA(3, 1)</td>    <th>  Log Likelihood     </th> <td>-23.581</td>\n",
              "</tr>\n",
              "<tr>\n",
              "  <th>Method:</th>             <td>css-mle</td>     <th>  S.D. of innovations</th>  <td>0.729</td> \n",
              "</tr>\n",
              "<tr>\n",
              "  <th>Date:</th>          <td>Mon, 28 Mar 2022</td> <th>  AIC                </th> <td>59.161</td> \n",
              "</tr>\n",
              "<tr>\n",
              "  <th>Time:</th>              <td>04:27:18</td>     <th>  BIC                </th> <td>65.136</td> \n",
              "</tr>\n",
              "<tr>\n",
              "  <th>Sample:</th>                <td>0</td>        <th>  HQIC               </th> <td>60.328</td> \n",
              "</tr>\n",
              "<tr>\n",
              "  <th></th>                       <td> </td>        <th>                     </th>    <td> </td>   \n",
              "</tr>\n",
              "</table>\n",
              "<table class=\"simpletable\">\n",
              "<tr>\n",
              "         <td></td>            <th>coef</th>     <th>std err</th>      <th>z</th>      <th>P>|z|</th>  <th>[0.025</th>    <th>0.975]</th>  \n",
              "</tr>\n",
              "<tr>\n",
              "  <th>const</th>           <td>  139.0667</td> <td>    0.923</td> <td>  150.671</td> <td> 0.000</td> <td>  137.258</td> <td>  140.876</td>\n",
              "</tr>\n",
              "<tr>\n",
              "  <th>ar.L1.Adj Close</th> <td>    1.0593</td> <td>    0.309</td> <td>    3.433</td> <td> 0.001</td> <td>    0.454</td> <td>    1.664</td>\n",
              "</tr>\n",
              "<tr>\n",
              "  <th>ar.L2.Adj Close</th> <td>    0.3463</td> <td>    0.452</td> <td>    0.767</td> <td> 0.443</td> <td>   -0.539</td> <td>    1.231</td>\n",
              "</tr>\n",
              "<tr>\n",
              "  <th>ar.L3.Adj Close</th> <td>   -0.5809</td> <td>    0.212</td> <td>   -2.746</td> <td> 0.006</td> <td>   -0.995</td> <td>   -0.166</td>\n",
              "</tr>\n",
              "<tr>\n",
              "  <th>ma.L1.Adj Close</th> <td>   -0.1953</td> <td>    0.390</td> <td>   -0.501</td> <td> 0.616</td> <td>   -0.959</td> <td>    0.568</td>\n",
              "</tr>\n",
              "</table>\n",
              "<table class=\"simpletable\">\n",
              "<caption>Roots</caption>\n",
              "<tr>\n",
              "    <td></td>   <th>            Real</th>  <th>         Imaginary</th> <th>         Modulus</th>  <th>        Frequency</th>\n",
              "</tr>\n",
              "<tr>\n",
              "  <th>AR.1</th> <td>          -1.4602</td> <td>          -0.0000j</td> <td>           1.4602</td> <td>          -0.5000</td>\n",
              "</tr>\n",
              "<tr>\n",
              "  <th>AR.2</th> <td>           1.0282</td> <td>          -0.3491j</td> <td>           1.0858</td> <td>          -0.0521</td>\n",
              "</tr>\n",
              "<tr>\n",
              "  <th>AR.3</th> <td>           1.0282</td> <td>          +0.3491j</td> <td>           1.0858</td> <td>           0.0521</td>\n",
              "</tr>\n",
              "<tr>\n",
              "  <th>MA.1</th> <td>           5.1206</td> <td>          +0.0000j</td> <td>           5.1206</td> <td>           0.0000</td>\n",
              "</tr>\n",
              "</table>"
            ],
            "text/plain": [
              "<class 'statsmodels.iolib.summary.Summary'>\n",
              "\"\"\"\n",
              "                              ARMA Model Results                              \n",
              "==============================================================================\n",
              "Dep. Variable:              Adj Close   No. Observations:                   20\n",
              "Model:                     ARMA(3, 1)   Log Likelihood                 -23.581\n",
              "Method:                       css-mle   S.D. of innovations              0.729\n",
              "Date:                Mon, 28 Mar 2022   AIC                             59.161\n",
              "Time:                        04:27:18   BIC                             65.136\n",
              "Sample:                             0   HQIC                            60.328\n",
              "                                                                              \n",
              "===================================================================================\n",
              "                      coef    std err          z      P>|z|      [0.025      0.975]\n",
              "-----------------------------------------------------------------------------------\n",
              "const             139.0667      0.923    150.671      0.000     137.258     140.876\n",
              "ar.L1.Adj Close     1.0593      0.309      3.433      0.001       0.454       1.664\n",
              "ar.L2.Adj Close     0.3463      0.452      0.767      0.443      -0.539       1.231\n",
              "ar.L3.Adj Close    -0.5809      0.212     -2.746      0.006      -0.995      -0.166\n",
              "ma.L1.Adj Close    -0.1953      0.390     -0.501      0.616      -0.959       0.568\n",
              "                                    Roots                                    \n",
              "=============================================================================\n",
              "                  Real          Imaginary           Modulus         Frequency\n",
              "-----------------------------------------------------------------------------\n",
              "AR.1           -1.4602           -0.0000j            1.4602           -0.5000\n",
              "AR.2            1.0282           -0.3491j            1.0858           -0.0521\n",
              "AR.3            1.0282           +0.3491j            1.0858            0.0521\n",
              "MA.1            5.1206           +0.0000j            5.1206            0.0000\n",
              "-----------------------------------------------------------------------------\n",
              "\"\"\""
            ]
          },
          "execution_count": 165,
          "metadata": {},
          "output_type": "execute_result"
        }
      ],
      "source": [
        "########################## QUESTION 6.2 #########################################\n",
        "\n",
        "from statsmodels.tsa.arima_model import ARIMA\n",
        "value = Gold_etf_Nov['Adj Close'].dropna()\n",
        "model=ARIMA(value,order=(3,0,1))\n",
        "model_fit=model.fit()\n",
        "model_fit.summary()"
      ]
    },
    {
      "cell_type": "code",
      "execution_count": null,
      "metadata": {
        "id": "ms5y4wG61v_Y",
        "outputId": "8f3d2d57-7fe6-4741-9fe5-aba3d5151436"
      },
      "outputs": [
        {
          "name": "stderr",
          "output_type": "stream",
          "text": [
            "/home/afolabiope1/.local/lib/python3.8/site-packages/statsmodels/tsa/base/tsa_model.py:524: ValueWarning:\n",
            "\n",
            "No frequency information was provided, so inferred frequency B will be used.\n",
            "\n"
          ]
        },
        {
          "data": {
            "text/html": [
              "<table class=\"simpletable\">\n",
              "<caption>ARMA Model Results</caption>\n",
              "<tr>\n",
              "  <th>Dep. Variable:</th>     <td>Adj Close</td>    <th>  No. Observations:  </th>   <td>22</td>  \n",
              "</tr>\n",
              "<tr>\n",
              "  <th>Model:</th>            <td>ARMA(3, 1)</td>    <th>  Log Likelihood     </th>  <td>3.435</td>\n",
              "</tr>\n",
              "<tr>\n",
              "  <th>Method:</th>             <td>css-mle</td>     <th>  S.D. of innovations</th>  <td>0.186</td>\n",
              "</tr>\n",
              "<tr>\n",
              "  <th>Date:</th>          <td>Mon, 28 Mar 2022</td> <th>  AIC                </th>  <td>5.131</td>\n",
              "</tr>\n",
              "<tr>\n",
              "  <th>Time:</th>              <td>04:28:04</td>     <th>  BIC                </th> <td>11.677</td>\n",
              "</tr>\n",
              "<tr>\n",
              "  <th>Sample:</th>           <td>10-01-2019</td>    <th>  HQIC               </th>  <td>6.673</td>\n",
              "</tr>\n",
              "<tr>\n",
              "  <th></th>                 <td>- 10-30-2019</td>   <th>                     </th>    <td> </td>  \n",
              "</tr>\n",
              "</table>\n",
              "<table class=\"simpletable\">\n",
              "<tr>\n",
              "         <td></td>            <th>coef</th>     <th>std err</th>      <th>z</th>      <th>P>|z|</th>  <th>[0.025</th>    <th>0.975]</th>  \n",
              "</tr>\n",
              "<tr>\n",
              "  <th>const</th>           <td>   29.7978</td> <td>    0.143</td> <td>  207.964</td> <td> 0.000</td> <td>   29.517</td> <td>   30.079</td>\n",
              "</tr>\n",
              "<tr>\n",
              "  <th>ar.L1.Adj Close</th> <td>    1.6240</td> <td>    0.249</td> <td>    6.514</td> <td> 0.000</td> <td>    1.135</td> <td>    2.113</td>\n",
              "</tr>\n",
              "<tr>\n",
              "  <th>ar.L2.Adj Close</th> <td>   -0.3656</td> <td>    0.498</td> <td>   -0.734</td> <td> 0.463</td> <td>   -1.341</td> <td>    0.610</td>\n",
              "</tr>\n",
              "<tr>\n",
              "  <th>ar.L3.Adj Close</th> <td>   -0.3008</td> <td>    0.257</td> <td>   -1.168</td> <td> 0.243</td> <td>   -0.805</td> <td>    0.204</td>\n",
              "</tr>\n",
              "<tr>\n",
              "  <th>ma.L1.Adj Close</th> <td>   -1.0000</td> <td>    0.137</td> <td>   -7.294</td> <td> 0.000</td> <td>   -1.269</td> <td>   -0.731</td>\n",
              "</tr>\n",
              "</table>\n",
              "<table class=\"simpletable\">\n",
              "<caption>Roots</caption>\n",
              "<tr>\n",
              "    <td></td>   <th>            Real</th>  <th>         Imaginary</th> <th>         Modulus</th>  <th>        Frequency</th>\n",
              "</tr>\n",
              "<tr>\n",
              "  <th>AR.1</th> <td>           1.0002</td> <td>          -0.1829j</td> <td>           1.0168</td> <td>          -0.0288</td>\n",
              "</tr>\n",
              "<tr>\n",
              "  <th>AR.2</th> <td>           1.0002</td> <td>          +0.1829j</td> <td>           1.0168</td> <td>           0.0288</td>\n",
              "</tr>\n",
              "<tr>\n",
              "  <th>AR.3</th> <td>          -3.2156</td> <td>          -0.0000j</td> <td>           3.2156</td> <td>          -0.5000</td>\n",
              "</tr>\n",
              "<tr>\n",
              "  <th>MA.1</th> <td>           1.0000</td> <td>          +0.0000j</td> <td>           1.0000</td> <td>           0.0000</td>\n",
              "</tr>\n",
              "</table>"
            ],
            "text/plain": [
              "<class 'statsmodels.iolib.summary.Summary'>\n",
              "\"\"\"\n",
              "                              ARMA Model Results                              \n",
              "==============================================================================\n",
              "Dep. Variable:              Adj Close   No. Observations:                   22\n",
              "Model:                     ARMA(3, 1)   Log Likelihood                   3.435\n",
              "Method:                       css-mle   S.D. of innovations              0.186\n",
              "Date:                Mon, 28 Mar 2022   AIC                              5.131\n",
              "Time:                        04:28:04   BIC                             11.677\n",
              "Sample:                    10-01-2019   HQIC                             6.673\n",
              "                         - 10-30-2019                                         \n",
              "===================================================================================\n",
              "                      coef    std err          z      P>|z|      [0.025      0.975]\n",
              "-----------------------------------------------------------------------------------\n",
              "const              29.7978      0.143    207.964      0.000      29.517      30.079\n",
              "ar.L1.Adj Close     1.6240      0.249      6.514      0.000       1.135       2.113\n",
              "ar.L2.Adj Close    -0.3656      0.498     -0.734      0.463      -1.341       0.610\n",
              "ar.L3.Adj Close    -0.3008      0.257     -1.168      0.243      -0.805       0.204\n",
              "ma.L1.Adj Close    -1.0000      0.137     -7.294      0.000      -1.269      -0.731\n",
              "                                    Roots                                    \n",
              "=============================================================================\n",
              "                  Real          Imaginary           Modulus         Frequency\n",
              "-----------------------------------------------------------------------------\n",
              "AR.1            1.0002           -0.1829j            1.0168           -0.0288\n",
              "AR.2            1.0002           +0.1829j            1.0168            0.0288\n",
              "AR.3           -3.2156           -0.0000j            3.2156           -0.5000\n",
              "MA.1            1.0000           +0.0000j            1.0000            0.0000\n",
              "-----------------------------------------------------------------------------\n",
              "\"\"\""
            ]
          },
          "execution_count": 166,
          "metadata": {},
          "output_type": "execute_result"
        }
      ],
      "source": [
        "########################## QUESTION 6.3 #########################################\n",
        "\n",
        "from statsmodels.tsa.arima_model import ARIMA\n",
        "value = Equity_etf_Oct['Adj Close'].dropna()\n",
        "model=ARIMA(value,order=(3,0,1))\n",
        "model_fit=model.fit()\n",
        "model_fit.summary()"
      ]
    },
    {
      "cell_type": "code",
      "execution_count": null,
      "metadata": {
        "id": "GTMKtXaF1v_Z",
        "outputId": "2af804f5-a868-4f5b-ea20-b6d97c88091b"
      },
      "outputs": [
        {
          "name": "stderr",
          "output_type": "stream",
          "text": [
            "/home/afolabiope1/.local/lib/python3.8/site-packages/statsmodels/tsa/base/tsa_model.py:581: ValueWarning:\n",
            "\n",
            "A date index has been provided, but it has no associated frequency information and so will be ignored when e.g. forecasting.\n",
            "\n"
          ]
        },
        {
          "data": {
            "text/html": [
              "<table class=\"simpletable\">\n",
              "<caption>ARMA Model Results</caption>\n",
              "<tr>\n",
              "  <th>Dep. Variable:</th>     <td>Adj Close</td>    <th>  No. Observations:  </th>   <td>20</td>   \n",
              "</tr>\n",
              "<tr>\n",
              "  <th>Model:</th>            <td>ARMA(3, 1)</td>    <th>  Log Likelihood     </th> <td>23.238</td> \n",
              "</tr>\n",
              "<tr>\n",
              "  <th>Method:</th>             <td>css-mle</td>     <th>  S.D. of innovations</th>  <td>0.072</td> \n",
              "</tr>\n",
              "<tr>\n",
              "  <th>Date:</th>          <td>Mon, 28 Mar 2022</td> <th>  AIC                </th> <td>-34.476</td>\n",
              "</tr>\n",
              "<tr>\n",
              "  <th>Time:</th>              <td>04:28:10</td>     <th>  BIC                </th> <td>-28.502</td>\n",
              "</tr>\n",
              "<tr>\n",
              "  <th>Sample:</th>                <td>0</td>        <th>  HQIC               </th> <td>-33.310</td>\n",
              "</tr>\n",
              "<tr>\n",
              "  <th></th>                       <td> </td>        <th>                     </th>    <td> </td>   \n",
              "</tr>\n",
              "</table>\n",
              "<table class=\"simpletable\">\n",
              "<tr>\n",
              "         <td></td>            <th>coef</th>     <th>std err</th>      <th>z</th>      <th>P>|z|</th>  <th>[0.025</th>    <th>0.975]</th>  \n",
              "</tr>\n",
              "<tr>\n",
              "  <th>const</th>           <td>   30.8841</td> <td>    0.010</td> <td> 3010.719</td> <td> 0.000</td> <td>   30.864</td> <td>   30.904</td>\n",
              "</tr>\n",
              "<tr>\n",
              "  <th>ar.L1.Adj Close</th> <td>    0.5889</td> <td>    0.405</td> <td>    1.455</td> <td> 0.146</td> <td>   -0.204</td> <td>    1.382</td>\n",
              "</tr>\n",
              "<tr>\n",
              "  <th>ar.L2.Adj Close</th> <td>   -0.3493</td> <td>    0.363</td> <td>   -0.961</td> <td> 0.336</td> <td>   -1.062</td> <td>    0.363</td>\n",
              "</tr>\n",
              "<tr>\n",
              "  <th>ar.L3.Adj Close</th> <td>   -0.3838</td> <td>    0.332</td> <td>   -1.157</td> <td> 0.247</td> <td>   -1.034</td> <td>    0.266</td>\n",
              "</tr>\n",
              "<tr>\n",
              "  <th>ma.L1.Adj Close</th> <td>   -0.3453</td> <td>    0.387</td> <td>   -0.892</td> <td> 0.373</td> <td>   -1.104</td> <td>    0.414</td>\n",
              "</tr>\n",
              "</table>\n",
              "<table class=\"simpletable\">\n",
              "<caption>Roots</caption>\n",
              "<tr>\n",
              "    <td></td>   <th>            Real</th>  <th>         Imaginary</th> <th>         Modulus</th>  <th>        Frequency</th>\n",
              "</tr>\n",
              "<tr>\n",
              "  <th>AR.1</th> <td>           0.6301</td> <td>          -0.8964j</td> <td>           1.0957</td> <td>          -0.1525</td>\n",
              "</tr>\n",
              "<tr>\n",
              "  <th>AR.2</th> <td>           0.6301</td> <td>          +0.8964j</td> <td>           1.0957</td> <td>           0.1525</td>\n",
              "</tr>\n",
              "<tr>\n",
              "  <th>AR.3</th> <td>          -2.1702</td> <td>          -0.0000j</td> <td>           2.1702</td> <td>          -0.5000</td>\n",
              "</tr>\n",
              "<tr>\n",
              "  <th>MA.1</th> <td>           2.8959</td> <td>          +0.0000j</td> <td>           2.8959</td> <td>           0.0000</td>\n",
              "</tr>\n",
              "</table>"
            ],
            "text/plain": [
              "<class 'statsmodels.iolib.summary.Summary'>\n",
              "\"\"\"\n",
              "                              ARMA Model Results                              \n",
              "==============================================================================\n",
              "Dep. Variable:              Adj Close   No. Observations:                   20\n",
              "Model:                     ARMA(3, 1)   Log Likelihood                  23.238\n",
              "Method:                       css-mle   S.D. of innovations              0.072\n",
              "Date:                Mon, 28 Mar 2022   AIC                            -34.476\n",
              "Time:                        04:28:10   BIC                            -28.502\n",
              "Sample:                             0   HQIC                           -33.310\n",
              "                                                                              \n",
              "===================================================================================\n",
              "                      coef    std err          z      P>|z|      [0.025      0.975]\n",
              "-----------------------------------------------------------------------------------\n",
              "const              30.8841      0.010   3010.719      0.000      30.864      30.904\n",
              "ar.L1.Adj Close     0.5889      0.405      1.455      0.146      -0.204       1.382\n",
              "ar.L2.Adj Close    -0.3493      0.363     -0.961      0.336      -1.062       0.363\n",
              "ar.L3.Adj Close    -0.3838      0.332     -1.157      0.247      -1.034       0.266\n",
              "ma.L1.Adj Close    -0.3453      0.387     -0.892      0.373      -1.104       0.414\n",
              "                                    Roots                                    \n",
              "=============================================================================\n",
              "                  Real          Imaginary           Modulus         Frequency\n",
              "-----------------------------------------------------------------------------\n",
              "AR.1            0.6301           -0.8964j            1.0957           -0.1525\n",
              "AR.2            0.6301           +0.8964j            1.0957            0.1525\n",
              "AR.3           -2.1702           -0.0000j            2.1702           -0.5000\n",
              "MA.1            2.8959           +0.0000j            2.8959            0.0000\n",
              "-----------------------------------------------------------------------------\n",
              "\"\"\""
            ]
          },
          "execution_count": 167,
          "metadata": {},
          "output_type": "execute_result"
        }
      ],
      "source": [
        "########################## QUESTION 6.4 #########################################\n",
        "\n",
        "from statsmodels.tsa.arima_model import ARIMA\n",
        "value = Equity_etf_Nov['Adj Close'].dropna()\n",
        "model=ARIMA(value,order=(3,0,1))\n",
        "model_fit=model.fit()\n",
        "model_fit.summary()"
      ]
    },
    {
      "cell_type": "markdown",
      "metadata": {
        "id": "zJwzsrtF1v_Z"
      },
      "source": [
        "# QUESTION 7"
      ]
    },
    {
      "cell_type": "code",
      "execution_count": null,
      "metadata": {
        "id": "_uCVCEYX1v_Z"
      },
      "outputs": [],
      "source": [
        "########################## QUESTION 7.1 #########################################\n",
        "Gold_etf_Oct['Diff'] = Gold_etf_Oct['High'] - Gold_etf_Oct['Low']\n",
        "Gold_etf_Nov['Diff'] = Gold_etf_Nov['High'] - Gold_etf_Nov['Low']\n",
        "Oct_Gold_average = Gold_etf_Oct['Diff'].mean()\n",
        "Nov_Gold_average = Gold_etf_Nov['Diff'].mean()"
      ]
    },
    {
      "cell_type": "code",
      "execution_count": null,
      "metadata": {
        "id": "GyNQ6WNr1v_Z"
      },
      "outputs": [],
      "source": [
        "########################## QUESTION 7.2 #########################################\n",
        "\n",
        "Oct_Gold_std = Gold_etf_Oct['Diff'].std()\n",
        "Nov_Gold_std = Gold_etf_Nov['Diff'].std()\n"
      ]
    },
    {
      "cell_type": "code",
      "execution_count": null,
      "metadata": {
        "id": "nUxN3Mix1v_Z",
        "outputId": "0bfe6e26-9885-4062-f776-77ee5c7831d4"
      },
      "outputs": [
        {
          "name": "stdout",
          "output_type": "stream",
          "text": [
            "Iteration:     10,   Func. Count:     61,   Neg. LLF: 13.475475553276748\n",
            "Optimization terminated successfully    (Exit mode 0)\n",
            "            Current function value: 13.456488141523073\n",
            "            Iterations: 14\n",
            "            Function evaluations: 81\n",
            "            Gradient evaluations: 14\n",
            "                     Constant Mean - GARCH Model Results                      \n",
            "==============================================================================\n",
            "Dep. Variable:                   Diff   R-squared:                       0.000\n",
            "Mean Model:             Constant Mean   Adj. R-squared:                  0.000\n",
            "Vol Model:                      GARCH   Log-Likelihood:               -13.4565\n",
            "Distribution:                  Normal   AIC:                           34.9130\n",
            "Method:            Maximum Likelihood   BIC:                           39.2771\n",
            "                                        No. Observations:                   22\n",
            "Date:                Mon, Mar 28 2022   Df Residuals:                       21\n",
            "Time:                        05:16:01   Df Model:                            1\n",
            "                               Mean Model                               \n",
            "========================================================================\n",
            "                 coef    std err          t      P>|t|  95.0% Conf. Int.\n",
            "------------------------------------------------------------------------\n",
            "mu             1.0298  9.861e-02     10.443  1.579e-25 [  0.837,  1.223]\n",
            "                               Volatility Model                              \n",
            "=============================================================================\n",
            "                 coef    std err          t      P>|t|       95.0% Conf. Int.\n",
            "-----------------------------------------------------------------------------\n",
            "omega          0.0155  3.528e-02      0.440      0.660 [-5.363e-02,8.467e-02]\n",
            "alpha[1]       0.0000  7.950e-02      0.000      1.000      [ -0.156,  0.156]\n",
            "beta[1]        0.8614      0.300      2.868  4.132e-03      [  0.273,  1.450]\n",
            "=============================================================================\n",
            "\n",
            "Covariance estimator: robust\n"
          ]
        }
      ],
      "source": [
        "########################## QUESTION 7.3 #########################################\n",
        "from arch import arch_model\n",
        "garch11 = arch_model(Gold_etf_Oct['Diff'], p=1, q=1)\n",
        "res = garch11.fit(update_freq=10)\n",
        "print(res.summary())"
      ]
    },
    {
      "cell_type": "code",
      "execution_count": null,
      "metadata": {
        "id": "0mVJp4QA1v_Z",
        "outputId": "311c4dc4-c3ad-4c4b-aa10-c5e1f7d90060"
      },
      "outputs": [
        {
          "name": "stdout",
          "output_type": "stream",
          "text": [
            "Iteration:     10,   Func. Count:     56,   Neg. LLF: 12.724063775639832\n",
            "Optimization terminated successfully    (Exit mode 0)\n",
            "            Current function value: 12.724063775671615\n",
            "            Iterations: 10\n",
            "            Function evaluations: 56\n",
            "            Gradient evaluations: 10\n",
            "                     Constant Mean - GARCH Model Results                      \n",
            "==============================================================================\n",
            "Dep. Variable:                   Diff   R-squared:                       0.000\n",
            "Mean Model:             Constant Mean   Adj. R-squared:                  0.000\n",
            "Vol Model:                      GARCH   Log-Likelihood:               -12.7241\n",
            "Distribution:                  Normal   AIC:                           33.4481\n",
            "Method:            Maximum Likelihood   BIC:                           37.4311\n",
            "                                        No. Observations:                   20\n",
            "Date:                Mon, Mar 28 2022   Df Residuals:                       19\n",
            "Time:                        05:22:53   Df Model:                            1\n",
            "                               Mean Model                               \n",
            "========================================================================\n",
            "                 coef    std err          t      P>|t|  95.0% Conf. Int.\n",
            "------------------------------------------------------------------------\n",
            "mu             0.9291      0.132      7.051  1.773e-12 [  0.671,  1.187]\n",
            "                               Volatility Model                              \n",
            "=============================================================================\n",
            "                 coef    std err          t      P>|t|       95.0% Conf. Int.\n",
            "-----------------------------------------------------------------------------\n",
            "omega      2.3049e-09  1.143e-02  2.017e-07      1.000 [-2.239e-02,2.239e-02]\n",
            "alpha[1]   2.7470e-12  4.630e-02  5.934e-11      1.000 [-9.074e-02,9.074e-02]\n",
            "beta[1]        0.9525  7.855e-02     12.125  7.742e-34      [  0.799,  1.106]\n",
            "=============================================================================\n",
            "\n",
            "Covariance estimator: robust\n"
          ]
        }
      ],
      "source": [
        "from arch import arch_model\n",
        "garch11 = arch_model(Gold_etf_Nov['Diff'], p=1, q=1)\n",
        "res = garch11.fit(update_freq=10)\n",
        "print(res.summary())"
      ]
    },
    {
      "cell_type": "code",
      "execution_count": null,
      "metadata": {
        "id": "THydksdL1v_a"
      },
      "outputs": [],
      "source": [
        "########################## QUESTION 7.5 #########################################\n",
        "\n",
        "\n",
        "Equity_etf_Oct['Diff'] = Equity_etf_Oct['High'] - Equity_etf_Oct['Low']\n",
        "Equity_etf_Nov['Diff'] = Equity_etf_Nov['High'] - Equity_etf_Nov['Low']\n",
        "Oct_Equity_average = Equity_etf_Oct['Diff'].mean()\n",
        "Nov_Equity_average = Equity_etf_Nov['Diff'].mean()"
      ]
    },
    {
      "cell_type": "code",
      "execution_count": null,
      "metadata": {
        "id": "6rYpiP8c1v_a"
      },
      "outputs": [],
      "source": [
        "########################## QUESTION 7.6 #########################################\n",
        "\n",
        "Oct_Equity_std = Equity_etf_Oct['Diff'].std()\n",
        "Nov_Equity_std = Equity_etf_Nov['Diff'].std()"
      ]
    },
    {
      "cell_type": "code",
      "execution_count": null,
      "metadata": {
        "id": "o0CqoKmn1v_a",
        "outputId": "0eb03c79-0adb-40ba-9a87-ca5bd329fcd7"
      },
      "outputs": [
        {
          "name": "stdout",
          "output_type": "stream",
          "text": [
            "Iteration:     10,   Func. Count:     62,   Neg. LLF: -23.816905027720093\n",
            "Optimization terminated successfully    (Exit mode 0)\n",
            "            Current function value: -23.816942737017076\n",
            "            Iterations: 13\n",
            "            Function evaluations: 76\n",
            "            Gradient evaluations: 13\n",
            "                     Constant Mean - GARCH Model Results                      \n",
            "==============================================================================\n",
            "Dep. Variable:                   Diff   R-squared:                       0.000\n",
            "Mean Model:             Constant Mean   Adj. R-squared:                  0.000\n",
            "Vol Model:                      GARCH   Log-Likelihood:                23.8169\n",
            "Distribution:                  Normal   AIC:                          -39.6339\n",
            "Method:            Maximum Likelihood   BIC:                          -35.2697\n",
            "                                        No. Observations:                   22\n",
            "Date:                Mon, Mar 28 2022   Df Residuals:                       21\n",
            "Time:                        05:23:24   Df Model:                            1\n",
            "                               Mean Model                               \n",
            "========================================================================\n",
            "                 coef    std err          t      P>|t|  95.0% Conf. Int.\n",
            "------------------------------------------------------------------------\n",
            "mu             0.1975  1.897e-02     10.407  2.296e-25 [  0.160,  0.235]\n",
            "                               Volatility Model                              \n",
            "=============================================================================\n",
            "                 coef    std err          t      P>|t|       95.0% Conf. Int.\n",
            "-----------------------------------------------------------------------------\n",
            "omega      7.5319e-04  1.682e-03      0.448      0.654 [-2.543e-03,4.050e-03]\n",
            "alpha[1]       0.0000  6.482e-02      0.000      1.000      [ -0.127,  0.127]\n",
            "beta[1]        0.8702      0.335      2.597  9.404e-03      [  0.213,  1.527]\n",
            "=============================================================================\n",
            "\n",
            "Covariance estimator: robust\n"
          ]
        }
      ],
      "source": [
        "########################## QUESTION 7.7 #########################################\n",
        "from arch import arch_model\n",
        "garch11 = arch_model(Equity_etf_Oct['Diff'], p=1, q=1)\n",
        "res = garch11.fit(update_freq=10)\n",
        "print(res.summary())"
      ]
    },
    {
      "cell_type": "code",
      "execution_count": null,
      "metadata": {
        "id": "cWhlMJzN1v_a",
        "outputId": "7207e4e5-055a-41d8-de97-d3b237c6616d"
      },
      "outputs": [
        {
          "name": "stdout",
          "output_type": "stream",
          "text": [
            "Optimization terminated successfully    (Exit mode 0)\n",
            "            Current function value: -45.55820070575123\n",
            "            Iterations: 9\n",
            "            Function evaluations: 54\n",
            "            Gradient evaluations: 9\n",
            "                     Constant Mean - GARCH Model Results                      \n",
            "==============================================================================\n",
            "Dep. Variable:                   Diff   R-squared:                       0.000\n",
            "Mean Model:             Constant Mean   Adj. R-squared:                  0.000\n",
            "Vol Model:                      GARCH   Log-Likelihood:                45.5582\n",
            "Distribution:                  Normal   AIC:                          -83.1164\n",
            "Method:            Maximum Likelihood   BIC:                          -79.1335\n",
            "                                        No. Observations:                   20\n",
            "Date:                Mon, Mar 28 2022   Df Residuals:                       19\n",
            "Time:                        05:23:49   Df Model:                            1\n",
            "                               Mean Model                               \n",
            "========================================================================\n",
            "                 coef    std err          t      P>|t|  95.0% Conf. Int.\n",
            "------------------------------------------------------------------------\n",
            "mu             0.1392  6.278e-03     22.167 7.185e-109 [  0.127,  0.151]\n",
            "                               Volatility Model                              \n",
            "=============================================================================\n",
            "                 coef    std err          t      P>|t|       95.0% Conf. Int.\n",
            "-----------------------------------------------------------------------------\n",
            "omega      1.9276e-05  4.450e-05      0.433      0.665 [-6.794e-05,1.065e-04]\n",
            "alpha[1]   9.7784e-16      0.395  2.475e-15      1.000      [ -0.774,  0.774]\n",
            "beta[1]        1.0000      0.201      4.985  6.189e-07      [  0.607,  1.393]\n",
            "=============================================================================\n",
            "\n",
            "Covariance estimator: robust\n"
          ]
        }
      ],
      "source": [
        "from arch import arch_model\n",
        "garch11 = arch_model(Equity_etf_Nov['Diff'], p=1, q=1)\n",
        "res = garch11.fit(update_freq=10)\n",
        "print(res.summary())"
      ]
    },
    {
      "cell_type": "markdown",
      "metadata": {
        "id": "pIaHVYI_1v_a"
      },
      "source": [
        "# QUESTION 8"
      ]
    },
    {
      "cell_type": "code",
      "execution_count": null,
      "metadata": {
        "id": "XBUrQKOz1v_b"
      },
      "outputs": [],
      "source": [
        "from scipy.stats import pearsonr\n",
        "\n",
        "corr_Oct, _ = pearsonr(Gold_etf_Oct['Adj Close'], Equity_etf_Oct['Adj Close'])\n",
        "corr_Nov, _ = pearsonr(Gold_etf_Nov['Adj Close'], Equity_etf_Nov['Adj Close'])"
      ]
    },
    {
      "cell_type": "code",
      "execution_count": null,
      "metadata": {
        "id": "F5NSErIv1v_b",
        "outputId": "df9e0da3-966d-4bb9-8bd8-8277039a7009"
      },
      "outputs": [
        {
          "ename": "NameError",
          "evalue": "name 'corr_Oct' is not defined",
          "output_type": "error",
          "traceback": [
            "\u001b[0;31m---------------------------------------------------------------------------\u001b[0m",
            "\u001b[0;31mNameError\u001b[0m                                 Traceback (most recent call last)",
            "\u001b[0;32m<ipython-input-1-b7e89ba19c92>\u001b[0m in \u001b[0;36m<module>\u001b[0;34m\u001b[0m\n\u001b[0;32m----> 1\u001b[0;31m \u001b[0mprint\u001b[0m \u001b[0;34m(\u001b[0m\u001b[0;34m'Pearson Correlation October:'\u001b[0m\u001b[0;34m,\u001b[0m \u001b[0mcorr_Oct\u001b[0m\u001b[0;34m)\u001b[0m\u001b[0;34m\u001b[0m\u001b[0;34m\u001b[0m\u001b[0m\n\u001b[0m\u001b[1;32m      2\u001b[0m \u001b[0mprint\u001b[0m \u001b[0;34m(\u001b[0m\u001b[0;34m'Pearson Correlation October:'\u001b[0m\u001b[0;34m,\u001b[0m \u001b[0mcorr_Nov\u001b[0m\u001b[0;34m)\u001b[0m\u001b[0;34m\u001b[0m\u001b[0;34m\u001b[0m\u001b[0m\n",
            "\u001b[0;31mNameError\u001b[0m: name 'corr_Oct' is not defined"
          ]
        }
      ],
      "source": [
        "print ('Pearson Correlation October:', corr_Oct)\n",
        "print ('Pearson Correlation October:', corr_Nov)"
      ]
    },
    {
      "cell_type": "code",
      "execution_count": null,
      "metadata": {
        "id": "KMb_Trq51v_b"
      },
      "outputs": [],
      "source": [
        ""
      ]
    },
    {
      "cell_type": "code",
      "execution_count": null,
      "metadata": {
        "id": "gpa7q-ii1v_b"
      },
      "outputs": [],
      "source": [
        ""
      ]
    },
    {
      "cell_type": "code",
      "execution_count": null,
      "metadata": {
        "id": "TIRMg_DW1v_b"
      },
      "outputs": [],
      "source": [
        ""
      ]
    },
    {
      "cell_type": "code",
      "execution_count": null,
      "metadata": {
        "id": "8YUKwi0f1v_b"
      },
      "outputs": [],
      "source": [
        ""
      ]
    },
    {
      "cell_type": "code",
      "execution_count": null,
      "metadata": {
        "id": "f09rBXL71v_b"
      },
      "outputs": [],
      "source": [
        ""
      ]
    }
  ],
  "metadata": {
    "kernelspec": {
      "display_name": "Python 3",
      "language": "python",
      "name": "python3"
    },
    "language_info": {
      "codemirror_mode": {
        "name": "ipython",
        "version": 3
      },
      "file_extension": ".py",
      "mimetype": "text/x-python",
      "name": "python",
      "nbconvert_exporter": "python",
      "pygments_lexer": "ipython3",
      "version": "3.8.10"
    },
    "colab": {
      "name": "Assignment .ipynb",
      "provenance": [],
      "collapsed_sections": [],
      "include_colab_link": true
    }
  },
  "nbformat": 4,
  "nbformat_minor": 0
}